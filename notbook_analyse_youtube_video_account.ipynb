{
 "cells": [
  {
   "cell_type": "markdown",
   "metadata": {},
   "source": [
    "## but de l'étude est :\n",
    "\n",
    " \n",
    " - Combien de temps je passe a regarder des vidéos Youtube par jour ?\n",
    " - Répartition de la visualisation journalière \n",
    " - Quel type de vidéo je regarde le plus \n",
    " - Quel sont les vidéos vu plusiseurs fois  \n",
    " - prédire si à une horraire présise  nous visualison ou pas de vidéo  \n",
    " "
   ]
  },
  {
   "cell_type": "code",
   "execution_count": null,
   "metadata": {},
   "outputs": [],
   "source": [
    "import pandas as pd \n",
    "import matplotlib.pyplot as plt\n",
    "import seaborn as sns"
   ]
  },
  {
   "cell_type": "code",
   "execution_count": null,
   "metadata": {},
   "outputs": [],
   "source": [
    "df_hist_search = pd.read_json(\"Historique des recherches.json\")\n",
    "df_whatch_history = pd.read_json(\"watch-history.json\")"
   ]
  },
  {
   "cell_type": "markdown",
   "metadata": {},
   "source": [
    "## df_hist_search"
   ]
  },
  {
   "cell_type": "code",
   "execution_count": 4,
   "metadata": {},
   "outputs": [
    {
     "name": "stdout",
     "output_type": "stream",
     "text": [
      "df_hist_search\n",
      "Index(['header', 'title', 'titleUrl', 'description', 'time', 'products',\n",
      "       'details', 'activityControls'],\n",
      "      dtype='object')\n",
      "(5011, 8)\n"
     ]
    }
   ],
   "source": [
    "print(\"df_hist_search\")\n",
    "print(df_hist_search.columns)\n",
    "print(df_hist_search.shape)"
   ]
  },
  {
   "cell_type": "code",
   "execution_count": 46,
   "metadata": {},
   "outputs": [
    {
     "data": {
      "text/html": [
       "<div>\n",
       "<style scoped>\n",
       "    .dataframe tbody tr th:only-of-type {\n",
       "        vertical-align: middle;\n",
       "    }\n",
       "\n",
       "    .dataframe tbody tr th {\n",
       "        vertical-align: top;\n",
       "    }\n",
       "\n",
       "    .dataframe thead th {\n",
       "        text-align: right;\n",
       "    }\n",
       "</style>\n",
       "<table border=\"1\" class=\"dataframe\">\n",
       "  <thead>\n",
       "    <tr style=\"text-align: right;\">\n",
       "      <th></th>\n",
       "      <th>header</th>\n",
       "      <th>title</th>\n",
       "      <th>titleUrl</th>\n",
       "      <th>description</th>\n",
       "      <th>time</th>\n",
       "      <th>products</th>\n",
       "      <th>details</th>\n",
       "      <th>activityControls</th>\n",
       "    </tr>\n",
       "  </thead>\n",
       "  <tbody>\n",
       "    <tr>\n",
       "      <th>0</th>\n",
       "      <td>YouTube</td>\n",
       "      <td>Vous avez regardé OutSystems - la plateforme d...</td>\n",
       "      <td>https://www.youtube.com/watch?v=57wM14zxhwE</td>\n",
       "      <td>Regardée à 16:22</td>\n",
       "      <td>2023-01-03T15:22:48.026Z</td>\n",
       "      <td>[YouTube]</td>\n",
       "      <td>[{'name': 'Des annonces Google'}]</td>\n",
       "      <td>[Activité sur le Web et les applications, Hist...</td>\n",
       "    </tr>\n",
       "    <tr>\n",
       "      <th>1</th>\n",
       "      <td>YouTube</td>\n",
       "      <td>Vous avez regardé Shopify Success Story - Anga...</td>\n",
       "      <td>https://www.youtube.com/watch?v=NwOHchNDWoU</td>\n",
       "      <td>Regardée à 16:07</td>\n",
       "      <td>2023-01-03T15:07:20.743Z</td>\n",
       "      <td>[YouTube]</td>\n",
       "      <td>[{'name': 'Des annonces Google'}]</td>\n",
       "      <td>[Activité sur le Web et les applications, Hist...</td>\n",
       "    </tr>\n",
       "    <tr>\n",
       "      <th>2</th>\n",
       "      <td>YouTube</td>\n",
       "      <td>Vous avez recherché offshore France</td>\n",
       "      <td>https://www.youtube.com/results?search_query=o...</td>\n",
       "      <td>NaN</td>\n",
       "      <td>2023-01-03T15:00:01.605Z</td>\n",
       "      <td>[YouTube]</td>\n",
       "      <td>NaN</td>\n",
       "      <td>[Historique des recherches YouTube]</td>\n",
       "    </tr>\n",
       "    <tr>\n",
       "      <th>3</th>\n",
       "      <td>YouTube</td>\n",
       "      <td>Vous avez regardé Boursorama Banque - ULTIM - ...</td>\n",
       "      <td>https://www.youtube.com/watch?v=6N13oTqaS8Q</td>\n",
       "      <td>Regardée à 15:59</td>\n",
       "      <td>2023-01-03T14:59:31.363Z</td>\n",
       "      <td>[YouTube]</td>\n",
       "      <td>[{'name': 'Des annonces Google'}]</td>\n",
       "      <td>[Activité sur le Web et les applications, Hist...</td>\n",
       "    </tr>\n",
       "    <tr>\n",
       "      <th>4</th>\n",
       "      <td>YouTube</td>\n",
       "      <td>Vous avez regardé Janvier   crea 02</td>\n",
       "      <td>https://www.youtube.com/watch?v=UoX08xdQe8I</td>\n",
       "      <td>Regardée à 15:53</td>\n",
       "      <td>2023-01-03T14:53:00.459Z</td>\n",
       "      <td>[YouTube]</td>\n",
       "      <td>[{'name': 'Des annonces Google'}]</td>\n",
       "      <td>[Activité sur le Web et les applications, Hist...</td>\n",
       "    </tr>\n",
       "  </tbody>\n",
       "</table>\n",
       "</div>"
      ],
      "text/plain": [
       "    header                                              title  \\\n",
       "0  YouTube  Vous avez regardé OutSystems - la plateforme d...   \n",
       "1  YouTube  Vous avez regardé Shopify Success Story - Anga...   \n",
       "2  YouTube                Vous avez recherché offshore France   \n",
       "3  YouTube  Vous avez regardé Boursorama Banque - ULTIM - ...   \n",
       "4  YouTube                Vous avez regardé Janvier   crea 02   \n",
       "\n",
       "                                            titleUrl       description  \\\n",
       "0        https://www.youtube.com/watch?v=57wM14zxhwE  Regardée à 16:22   \n",
       "1        https://www.youtube.com/watch?v=NwOHchNDWoU  Regardée à 16:07   \n",
       "2  https://www.youtube.com/results?search_query=o...               NaN   \n",
       "3        https://www.youtube.com/watch?v=6N13oTqaS8Q  Regardée à 15:59   \n",
       "4        https://www.youtube.com/watch?v=UoX08xdQe8I  Regardée à 15:53   \n",
       "\n",
       "                       time   products                            details  \\\n",
       "0  2023-01-03T15:22:48.026Z  [YouTube]  [{'name': 'Des annonces Google'}]   \n",
       "1  2023-01-03T15:07:20.743Z  [YouTube]  [{'name': 'Des annonces Google'}]   \n",
       "2  2023-01-03T15:00:01.605Z  [YouTube]                                NaN   \n",
       "3  2023-01-03T14:59:31.363Z  [YouTube]  [{'name': 'Des annonces Google'}]   \n",
       "4  2023-01-03T14:53:00.459Z  [YouTube]  [{'name': 'Des annonces Google'}]   \n",
       "\n",
       "                                    activityControls  \n",
       "0  [Activité sur le Web et les applications, Hist...  \n",
       "1  [Activité sur le Web et les applications, Hist...  \n",
       "2                [Historique des recherches YouTube]  \n",
       "3  [Activité sur le Web et les applications, Hist...  \n",
       "4  [Activité sur le Web et les applications, Hist...  "
      ]
     },
     "execution_count": 46,
     "metadata": {},
     "output_type": "execute_result"
    }
   ],
   "source": [
    "df_hist_search.head()"
   ]
  },
  {
   "cell_type": "code",
   "execution_count": 66,
   "metadata": {},
   "outputs": [
    {
     "name": "stdout",
     "output_type": "stream",
     "text": [
      "<class 'pandas.core.frame.DataFrame'>\n",
      "RangeIndex: 5011 entries, 0 to 5010\n",
      "Data columns (total 8 columns):\n",
      " #   Column            Non-Null Count  Dtype \n",
      "---  ------            --------------  ----- \n",
      " 0   header            5011 non-null   object\n",
      " 1   title             5011 non-null   object\n",
      " 2   titleUrl          5011 non-null   object\n",
      " 3   description       1721 non-null   object\n",
      " 4   time              5011 non-null   object\n",
      " 5   products          5011 non-null   object\n",
      " 6   details           1792 non-null   object\n",
      " 7   activityControls  5011 non-null   object\n",
      "dtypes: object(8)\n",
      "memory usage: 313.3+ KB\n"
     ]
    }
   ],
   "source": [
    "df_hist_search.info()"
   ]
  },
  {
   "cell_type": "markdown",
   "metadata": {},
   "source": [
    "- Tous les type sont de type object "
   ]
  },
  {
   "cell_type": "code",
   "execution_count": 67,
   "metadata": {},
   "outputs": [
    {
     "data": {
      "text/html": [
       "<div>\n",
       "<style scoped>\n",
       "    .dataframe tbody tr th:only-of-type {\n",
       "        vertical-align: middle;\n",
       "    }\n",
       "\n",
       "    .dataframe tbody tr th {\n",
       "        vertical-align: top;\n",
       "    }\n",
       "\n",
       "    .dataframe thead th {\n",
       "        text-align: right;\n",
       "    }\n",
       "</style>\n",
       "<table border=\"1\" class=\"dataframe\">\n",
       "  <thead>\n",
       "    <tr style=\"text-align: right;\">\n",
       "      <th></th>\n",
       "      <th>header</th>\n",
       "      <th>title</th>\n",
       "      <th>titleUrl</th>\n",
       "      <th>description</th>\n",
       "      <th>time</th>\n",
       "      <th>products</th>\n",
       "      <th>details</th>\n",
       "      <th>activityControls</th>\n",
       "    </tr>\n",
       "  </thead>\n",
       "  <tbody>\n",
       "    <tr>\n",
       "      <th>count</th>\n",
       "      <td>5011</td>\n",
       "      <td>5011</td>\n",
       "      <td>5011</td>\n",
       "      <td>1721</td>\n",
       "      <td>5011</td>\n",
       "      <td>5011</td>\n",
       "      <td>1792</td>\n",
       "      <td>5011</td>\n",
       "    </tr>\n",
       "    <tr>\n",
       "      <th>unique</th>\n",
       "      <td>1</td>\n",
       "      <td>3584</td>\n",
       "      <td>3651</td>\n",
       "      <td>888</td>\n",
       "      <td>5011</td>\n",
       "      <td>1</td>\n",
       "      <td>1</td>\n",
       "      <td>2</td>\n",
       "    </tr>\n",
       "    <tr>\n",
       "      <th>top</th>\n",
       "      <td>YouTube</td>\n",
       "      <td>Vous avez regardé Choisissez Chromebook - Goog...</td>\n",
       "      <td>https://www.youtube.com/watch?v=RwDjy_WGw8g</td>\n",
       "      <td>Regardée à 11:46</td>\n",
       "      <td>2023-01-03T15:22:48.026Z</td>\n",
       "      <td>[YouTube]</td>\n",
       "      <td>[{'name': 'Des annonces Google'}]</td>\n",
       "      <td>[Historique des recherches YouTube]</td>\n",
       "    </tr>\n",
       "    <tr>\n",
       "      <th>freq</th>\n",
       "      <td>5011</td>\n",
       "      <td>51</td>\n",
       "      <td>30</td>\n",
       "      <td>7</td>\n",
       "      <td>1</td>\n",
       "      <td>5011</td>\n",
       "      <td>1792</td>\n",
       "      <td>3219</td>\n",
       "    </tr>\n",
       "  </tbody>\n",
       "</table>\n",
       "</div>"
      ],
      "text/plain": [
       "         header                                              title  \\\n",
       "count      5011                                               5011   \n",
       "unique        1                                               3584   \n",
       "top     YouTube  Vous avez regardé Choisissez Chromebook - Goog...   \n",
       "freq       5011                                                 51   \n",
       "\n",
       "                                           titleUrl       description  \\\n",
       "count                                          5011              1721   \n",
       "unique                                         3651               888   \n",
       "top     https://www.youtube.com/watch?v=RwDjy_WGw8g  Regardée à 11:46   \n",
       "freq                                             30                 7   \n",
       "\n",
       "                            time   products  \\\n",
       "count                       5011       5011   \n",
       "unique                      5011          1   \n",
       "top     2023-01-03T15:22:48.026Z  [YouTube]   \n",
       "freq                           1       5011   \n",
       "\n",
       "                                  details                     activityControls  \n",
       "count                                1792                                 5011  \n",
       "unique                                  1                                    2  \n",
       "top     [{'name': 'Des annonces Google'}]  [Historique des recherches YouTube]  \n",
       "freq                                 1792                                 3219  "
      ]
     },
     "execution_count": 67,
     "metadata": {},
     "output_type": "execute_result"
    }
   ],
   "source": [
    "df_hist_search.describe()"
   ]
  },
  {
   "cell_type": "code",
   "execution_count": 75,
   "metadata": {},
   "outputs": [
    {
     "data": {
      "text/plain": [
       "header               0.000000\n",
       "title                0.000000\n",
       "titleUrl             0.000000\n",
       "description         65.655558\n",
       "time                 0.000000\n",
       "products             0.000000\n",
       "details             64.238675\n",
       "activityControls     0.000000\n",
       "dtype: float64"
      ]
     },
     "execution_count": 75,
     "metadata": {},
     "output_type": "execute_result"
    }
   ],
   "source": [
    "# pourcentage de Nan \n",
    "df_nan = df_hist_search.isna().sum()/(df_hist_search.shape[0])*100\n",
    "df_nan "
   ]
  },
  {
   "cell_type": "code",
   "execution_count": 65,
   "metadata": {},
   "outputs": [
    {
     "data": {
      "text/plain": [
       "<AxesSubplot:>"
      ]
     },
     "execution_count": 65,
     "metadata": {},
     "output_type": "execute_result"
    },
    {
     "data": {
      "image/png": "[encoded data removed]",
      "text/plain": [
       "<Figure size 432x288 with 2 Axes>"
      ]
     },
     "metadata": {
      "needs_background": "light"
     },
     "output_type": "display_data"
    }
   ],
   "source": [
    "# plot a Nan \n",
    "sns.heatmap(df_hist_search.isna(),cbar=True)"
   ]
  },
  {
   "cell_type": "markdown",
   "metadata": {},
   "source": [
    "## df_whatch_history"
   ]
  },
  {
   "cell_type": "code",
   "execution_count": 78,
   "metadata": {},
   "outputs": [
    {
     "data": {
      "text/html": [
       "<div>\n",
       "<style scoped>\n",
       "    .dataframe tbody tr th:only-of-type {\n",
       "        vertical-align: middle;\n",
       "    }\n",
       "\n",
       "    .dataframe tbody tr th {\n",
       "        vertical-align: top;\n",
       "    }\n",
       "\n",
       "    .dataframe thead th {\n",
       "        text-align: right;\n",
       "    }\n",
       "</style>\n",
       "<table border=\"1\" class=\"dataframe\">\n",
       "  <thead>\n",
       "    <tr style=\"text-align: right;\">\n",
       "      <th></th>\n",
       "      <th>header</th>\n",
       "      <th>title</th>\n",
       "      <th>titleUrl</th>\n",
       "      <th>subtitles</th>\n",
       "      <th>time</th>\n",
       "      <th>products</th>\n",
       "      <th>activityControls</th>\n",
       "      <th>description</th>\n",
       "      <th>details</th>\n",
       "    </tr>\n",
       "  </thead>\n",
       "  <tbody>\n",
       "    <tr>\n",
       "      <th>0</th>\n",
       "      <td>YouTube</td>\n",
       "      <td>Vous avez regardé Front end &amp; Back end Power Bi</td>\n",
       "      <td>https://www.youtube.com/watch?v=mgznn_lMma8</td>\n",
       "      <td>[{'name': 'Digital Lab4Africa TV', 'url': 'htt...</td>\n",
       "      <td>2023-01-03T15:41:29.396Z</td>\n",
       "      <td>[YouTube]</td>\n",
       "      <td>[Historique des vidéos regardées sur YouTube]</td>\n",
       "      <td>NaN</td>\n",
       "      <td>NaN</td>\n",
       "    </tr>\n",
       "    <tr>\n",
       "      <th>1</th>\n",
       "      <td>YouTube</td>\n",
       "      <td>Vous avez regardé OutSystems - la plateforme d...</td>\n",
       "      <td>https://www.youtube.com/watch?v=57wM14zxhwE</td>\n",
       "      <td>NaN</td>\n",
       "      <td>2023-01-03T15:22:48.026Z</td>\n",
       "      <td>[YouTube]</td>\n",
       "      <td>[Activité sur le Web et les applications, Hist...</td>\n",
       "      <td>Regardée à 16:22</td>\n",
       "      <td>[{'name': 'Des annonces Google'}]</td>\n",
       "    </tr>\n",
       "    <tr>\n",
       "      <th>2</th>\n",
       "      <td>YouTube</td>\n",
       "      <td>Vous avez regardé YouTube veut pas faire un re...</td>\n",
       "      <td>https://www.youtube.com/watch?v=fD3wM3CKEbU</td>\n",
       "      <td>[{'name': 'cocadmin', 'url': 'https://www.yout...</td>\n",
       "      <td>2023-01-03T15:07:35.639Z</td>\n",
       "      <td>[YouTube]</td>\n",
       "      <td>[Historique des vidéos regardées sur YouTube]</td>\n",
       "      <td>NaN</td>\n",
       "      <td>NaN</td>\n",
       "    </tr>\n",
       "    <tr>\n",
       "      <th>3</th>\n",
       "      <td>YouTube</td>\n",
       "      <td>Vous avez regardé Shopify Success Story - Anga...</td>\n",
       "      <td>https://www.youtube.com/watch?v=NwOHchNDWoU</td>\n",
       "      <td>NaN</td>\n",
       "      <td>2023-01-03T15:07:20.743Z</td>\n",
       "      <td>[YouTube]</td>\n",
       "      <td>[Activité sur le Web et les applications, Hist...</td>\n",
       "      <td>Regardée à 16:07</td>\n",
       "      <td>[{'name': 'Des annonces Google'}]</td>\n",
       "    </tr>\n",
       "    <tr>\n",
       "      <th>4</th>\n",
       "      <td>YouTube</td>\n",
       "      <td>Vous avez regardé Créer une Holding - Pourquoi...</td>\n",
       "      <td>https://www.youtube.com/watch?v=If9HVvrki6I</td>\n",
       "      <td>[{'name': 'Dougs Compta', 'url': 'https://www....</td>\n",
       "      <td>2023-01-03T15:00:55.450Z</td>\n",
       "      <td>[YouTube]</td>\n",
       "      <td>[Historique des vidéos regardées sur YouTube]</td>\n",
       "      <td>NaN</td>\n",
       "      <td>NaN</td>\n",
       "    </tr>\n",
       "  </tbody>\n",
       "</table>\n",
       "</div>"
      ],
      "text/plain": [
       "    header                                              title  \\\n",
       "0  YouTube    Vous avez regardé Front end & Back end Power Bi   \n",
       "1  YouTube  Vous avez regardé OutSystems - la plateforme d...   \n",
       "2  YouTube  Vous avez regardé YouTube veut pas faire un re...   \n",
       "3  YouTube  Vous avez regardé Shopify Success Story - Anga...   \n",
       "4  YouTube  Vous avez regardé Créer une Holding - Pourquoi...   \n",
       "\n",
       "                                      titleUrl  \\\n",
       "0  https://www.youtube.com/watch?v=mgznn_lMma8   \n",
       "1  https://www.youtube.com/watch?v=57wM14zxhwE   \n",
       "2  https://www.youtube.com/watch?v=fD3wM3CKEbU   \n",
       "3  https://www.youtube.com/watch?v=NwOHchNDWoU   \n",
       "4  https://www.youtube.com/watch?v=If9HVvrki6I   \n",
       "\n",
       "                                           subtitles  \\\n",
       "0  [{'name': 'Digital Lab4Africa TV', 'url': 'htt...   \n",
       "1                                                NaN   \n",
       "2  [{'name': 'cocadmin', 'url': 'https://www.yout...   \n",
       "3                                                NaN   \n",
       "4  [{'name': 'Dougs Compta', 'url': 'https://www....   \n",
       "\n",
       "                       time   products  \\\n",
       "0  2023-01-03T15:41:29.396Z  [YouTube]   \n",
       "1  2023-01-03T15:22:48.026Z  [YouTube]   \n",
       "2  2023-01-03T15:07:35.639Z  [YouTube]   \n",
       "3  2023-01-03T15:07:20.743Z  [YouTube]   \n",
       "4  2023-01-03T15:00:55.450Z  [YouTube]   \n",
       "\n",
       "                                    activityControls       description  \\\n",
       "0      [Historique des vidéos regardées sur YouTube]               NaN   \n",
       "1  [Activité sur le Web et les applications, Hist...  Regardée à 16:22   \n",
       "2      [Historique des vidéos regardées sur YouTube]               NaN   \n",
       "3  [Activité sur le Web et les applications, Hist...  Regardée à 16:07   \n",
       "4      [Historique des vidéos regardées sur YouTube]               NaN   \n",
       "\n",
       "                             details  \n",
       "0                                NaN  \n",
       "1  [{'name': 'Des annonces Google'}]  \n",
       "2                                NaN  \n",
       "3  [{'name': 'Des annonces Google'}]  \n",
       "4                                NaN  "
      ]
     },
     "execution_count": 78,
     "metadata": {},
     "output_type": "execute_result"
    }
   ],
   "source": [
    "df_whatch_history.head()"
   ]
  },
  {
   "cell_type": "code",
   "execution_count": 12,
   "metadata": {},
   "outputs": [
    {
     "name": "stdout",
     "output_type": "stream",
     "text": [
      "<class 'pandas.core.frame.DataFrame'>\n",
      "RangeIndex: 22159 entries, 0 to 22158\n",
      "Data columns (total 9 columns):\n",
      " #   Column            Non-Null Count  Dtype \n",
      "---  ------            --------------  ----- \n",
      " 0   header            22159 non-null  object\n",
      " 1   title             22159 non-null  object\n",
      " 2   titleUrl          21569 non-null  object\n",
      " 3   subtitles         18143 non-null  object\n",
      " 4   time              22159 non-null  object\n",
      " 5   products          22159 non-null  object\n",
      " 6   activityControls  22159 non-null  object\n",
      " 7   description       1713 non-null   object\n",
      " 8   details           1898 non-null   object\n",
      "dtypes: object(9)\n",
      "memory usage: 1.5+ MB\n"
     ]
    }
   ],
   "source": [
    "df_whatch_history.info()"
   ]
  },
  {
   "cell_type": "code",
   "execution_count": 11,
   "metadata": {},
   "outputs": [
    {
     "name": "stdout",
     "output_type": "stream",
     "text": [
      "<class 'pandas.core.frame.DataFrame'>\n",
      "RangeIndex: 22159 entries, 0 to 22158\n",
      "Data columns (total 9 columns):\n",
      " #   Column            Non-Null Count  Dtype \n",
      "---  ------            --------------  ----- \n",
      " 0   header            22159 non-null  object\n",
      " 1   title             22159 non-null  object\n",
      " 2   titleUrl          21569 non-null  object\n",
      " 3   subtitles         18143 non-null  object\n",
      " 4   time              22159 non-null  object\n",
      " 5   products          22159 non-null  object\n",
      " 6   activityControls  22159 non-null  object\n",
      " 7   description       1713 non-null   object\n",
      " 8   details           1898 non-null   object\n",
      "dtypes: object(9)\n",
      "memory usage: 1.5+ MB\n"
     ]
    }
   ],
   "source": [
    "df_whatch_history.info()"
   ]
  },
  {
   "cell_type": "code",
   "execution_count": 14,
   "metadata": {},
   "outputs": [
    {
     "data": {
      "text/plain": [
       "header               0.000000\n",
       "title                0.000000\n",
       "titleUrl             2.662575\n",
       "subtitles           18.123562\n",
       "time                 0.000000\n",
       "products             0.000000\n",
       "activityControls     0.000000\n",
       "description         92.269507\n",
       "details             91.434632\n",
       "dtype: float64"
      ]
     },
     "execution_count": 14,
     "metadata": {},
     "output_type": "execute_result"
    }
   ],
   "source": [
    "# pourcentage de Nan \n",
    "df_nan = df_whatch_history.isna().sum()/(df_whatch_history.shape[0])*100\n",
    "df_nan "
   ]
  },
  {
   "cell_type": "code",
   "execution_count": 76,
   "metadata": {},
   "outputs": [
    {
     "data": {
      "text/plain": [
       "<AxesSubplot:>"
      ]
     },
     "execution_count": 76,
     "metadata": {},
     "output_type": "execute_result"
    },
    {
     "data": {
      "image/png": "[encoded data removed]",
      "text/plain": [
       "<Figure size 432x288 with 2 Axes>"
      ]
     },
     "metadata": {
      "needs_background": "light"
     },
     "output_type": "display_data"
    }
   ],
   "source": [
    "# plot a Nan \n",
    "sns.heatmap(df_whatch_history.isna(),cbar=True)"
   ]
  },
  {
   "cell_type": "code",
   "execution_count": 10,
   "metadata": {},
   "outputs": [
    {
     "data": {
      "text/plain": [
       "0.6805361252764114"
      ]
     },
     "execution_count": 10,
     "metadata": {},
     "output_type": "execute_result"
    }
   ],
   "source": [
    "len(df_whatch_history['titleUrl'].unique())/df_whatch_history.shape[0]"
   ]
  },
  {
   "cell_type": "code",
   "execution_count": 24,
   "metadata": {},
   "outputs": [
    {
     "data": {
      "text/html": [
       "<div>\n",
       "<style scoped>\n",
       "    .dataframe tbody tr th:only-of-type {\n",
       "        vertical-align: middle;\n",
       "    }\n",
       "\n",
       "    .dataframe tbody tr th {\n",
       "        vertical-align: top;\n",
       "    }\n",
       "\n",
       "    .dataframe thead th {\n",
       "        text-align: right;\n",
       "    }\n",
       "</style>\n",
       "<table border=\"1\" class=\"dataframe\">\n",
       "  <thead>\n",
       "    <tr style=\"text-align: right;\">\n",
       "      <th></th>\n",
       "      <th>header</th>\n",
       "      <th>title</th>\n",
       "      <th>titleUrl</th>\n",
       "      <th>subtitles</th>\n",
       "      <th>time</th>\n",
       "      <th>products</th>\n",
       "      <th>activityControls</th>\n",
       "      <th>description</th>\n",
       "      <th>details</th>\n",
       "    </tr>\n",
       "  </thead>\n",
       "  <tbody>\n",
       "    <tr>\n",
       "      <th>22156</th>\n",
       "      <td>YouTube</td>\n",
       "      <td>Vous avez regardé https://www.youtube.com/watc...</td>\n",
       "      <td>https://www.youtube.com/watch?v=-NRvnWlnE00</td>\n",
       "      <td>NaN</td>\n",
       "      <td>2017-04-20T21:11:42.556Z</td>\n",
       "      <td>[YouTube]</td>\n",
       "      <td>[Historique des vidéos regardées sur YouTube]</td>\n",
       "      <td>NaN</td>\n",
       "      <td>NaN</td>\n",
       "    </tr>\n",
       "    <tr>\n",
       "      <th>22157</th>\n",
       "      <td>YouTube</td>\n",
       "      <td>Vous avez regardé https://www.youtube.com/watc...</td>\n",
       "      <td>https://www.youtube.com/watch?v=-NRvnWlnE00</td>\n",
       "      <td>NaN</td>\n",
       "      <td>2017-04-20T19:29:03.072Z</td>\n",
       "      <td>[YouTube]</td>\n",
       "      <td>[Historique des vidéos regardées sur YouTube]</td>\n",
       "      <td>NaN</td>\n",
       "      <td>NaN</td>\n",
       "    </tr>\n",
       "    <tr>\n",
       "      <th>22158</th>\n",
       "      <td>YouTube</td>\n",
       "      <td>Vous avez regardé https://www.youtube.com/watc...</td>\n",
       "      <td>https://www.youtube.com/watch?v=-NRvnWlnE00</td>\n",
       "      <td>NaN</td>\n",
       "      <td>2017-04-20T17:47:16.507Z</td>\n",
       "      <td>[YouTube]</td>\n",
       "      <td>[Historique des vidéos regardées sur YouTube]</td>\n",
       "      <td>NaN</td>\n",
       "      <td>NaN</td>\n",
       "    </tr>\n",
       "  </tbody>\n",
       "</table>\n",
       "</div>"
      ],
      "text/plain": [
       "        header                                              title  \\\n",
       "22156  YouTube  Vous avez regardé https://www.youtube.com/watc...   \n",
       "22157  YouTube  Vous avez regardé https://www.youtube.com/watc...   \n",
       "22158  YouTube  Vous avez regardé https://www.youtube.com/watc...   \n",
       "\n",
       "                                          titleUrl subtitles  \\\n",
       "22156  https://www.youtube.com/watch?v=-NRvnWlnE00       NaN   \n",
       "22157  https://www.youtube.com/watch?v=-NRvnWlnE00       NaN   \n",
       "22158  https://www.youtube.com/watch?v=-NRvnWlnE00       NaN   \n",
       "\n",
       "                           time   products  \\\n",
       "22156  2017-04-20T21:11:42.556Z  [YouTube]   \n",
       "22157  2017-04-20T19:29:03.072Z  [YouTube]   \n",
       "22158  2017-04-20T17:47:16.507Z  [YouTube]   \n",
       "\n",
       "                                    activityControls description details  \n",
       "22156  [Historique des vidéos regardées sur YouTube]         NaN     NaN  \n",
       "22157  [Historique des vidéos regardées sur YouTube]         NaN     NaN  \n",
       "22158  [Historique des vidéos regardées sur YouTube]         NaN     NaN  "
      ]
     },
     "execution_count": 24,
     "metadata": {},
     "output_type": "execute_result"
    }
   ],
   "source": [
    "df_whatch_history.tail(3)"
   ]
  },
  {
   "cell_type": "markdown",
   "metadata": {},
   "source": [
    "## Annalyse univarier "
   ]
  },
  {
   "cell_type": "code",
   "execution_count": 66,
   "metadata": {},
   "outputs": [],
   "source": [
    "df_whatch_history[\"time\"] = pd.to_datetime(df_whatch_history[\"time\"])"
   ]
  },
  {
   "cell_type": "code",
   "execution_count": 94,
   "metadata": {},
   "outputs": [],
   "source": [
    "df_whatch_history[\"month\"] = df_whatch_history[\"time\"].apply(lambda x: x.month_name())\n",
    "df_whatch_history[\"day\"] = df_whatch_history[\"time\"].apply(lambda x: x.day_name())\n",
    "df_whatch_history[\"year\"] = df_whatch_history[\"time\"].apply(lambda x: x.year)"
   ]
  },
  {
   "cell_type": "code",
   "execution_count": 100,
   "metadata": {},
   "outputs": [
    {
     "data": {
      "text/plain": [
       "<AxesSubplot:>"
      ]
     },
     "execution_count": 100,
     "metadata": {},
     "output_type": "execute_result"
    },
    {
     "data": {
      "image/png": "[encoded data removed]",
      "text/plain": [
       "<Figure size 1080x288 with 3 Axes>"
      ]
     },
     "metadata": {
      "needs_background": "light"
     },
     "output_type": "display_data"
    }
   ],
   "source": [
    "fig, (ax1, ax2, ax3) = plt.subplots(1, 3, figsize=(15, 4))\n",
    "df_whatch_history[\"day\"].value_counts().plot.bar(ax=ax1, )\n",
    "df_whatch_history[\"month\"].value_counts().plot.bar(ax=ax2)\n",
    "df_whatch_history[\"year\"].value_counts().plot.bar(ax=ax3)"
   ]
  },
  {
   "cell_type": "code",
   "execution_count": 96,
   "metadata": {},
   "outputs": [
    {
     "data": {
      "text/plain": [
       "<AxesSubplot:>"
      ]
     },
     "execution_count": 96,
     "metadata": {},
     "output_type": "execute_result"
    },
    {
     "data": {
      "image/png": "[encoded data removed]",
      "text/plain": [
       "<Figure size 432x288 with 1 Axes>"
      ]
     },
     "metadata": {
      "needs_background": "light"
     },
     "output_type": "display_data"
    }
   ],
   "source": [
    "df_whatch_history[\"year\"].value_counts().plot.bar()"
   ]
  },
  {
   "cell_type": "markdown",
   "metadata": {},
   "source": [
    "## Netoyage "
   ]
  },
  {
   "cell_type": "markdown",
   "metadata": {},
   "source": []
  },
  {
   "cell_type": "code",
   "execution_count": 50,
   "metadata": {},
   "outputs": [],
   "source": [
    "#\n",
    "df_test_inversecol = pd.DataFrame([df_whatch_history['subtitles'].isna(), df_whatch_history['details'].isna()]).T\n",
    "df_test_inversecol[\"somme\"] = df_test_inversecol[\"subtitles\"]!=df_test_inversecol[\"details\"]"
   ]
  },
  {
   "cell_type": "code",
   "execution_count": null,
   "metadata": {},
   "outputs": [],
   "source": [
    "dfdf_whatch_history[df_test_inversecol[\"somme\"]==True]"
   ]
  },
  {
   "cell_type": "code",
   "execution_count": 43,
   "metadata": {},
   "outputs": [
    {
     "data": {
      "text/plain": [
       "0        False\n",
       "1         True\n",
       "2        False\n",
       "3         True\n",
       "4        False\n",
       "         ...  \n",
       "22154     True\n",
       "22155     True\n",
       "22156     True\n",
       "22157     True\n",
       "22158     True\n",
       "Length: 22159, dtype: bool"
      ]
     },
     "execution_count": 43,
     "metadata": {},
     "output_type": "execute_result"
    }
   ],
   "source": [
    " df_test_inversecol['subtitles'] + ~df_test_inversecol['details']"
   ]
  },
  {
   "cell_type": "code",
   "execution_count": null,
   "metadata": {},
   "outputs": [],
   "source": []
  }
 ],
 "metadata": {
  "kernelspec": {
   "display_name": "Python 3.10.8 64-bit (microsoft store)",
   "language": "python",
   "name": "python3"
  },
  "language_info": {
   "codemirror_mode": {
    "name": "ipython",
    "version": 3
   },
   "file_extension": ".py",
   "mimetype": "text/x-python",
   "name": "python",
   "nbconvert_exporter": "python",
   "pygments_lexer": "ipython3",
   "version": "3.10.8"
  },
  "orig_nbformat": 4,
  "vscode": {
   "interpreter": {
    "hash": "acb2067741460adb28304ff34931fa22c0faa963a10bcc96a59f02b3f1937b23"
   }
  }
 },
 "nbformat": 4,
 "nbformat_minor": 2
}
